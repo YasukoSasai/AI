{
  "nbformat": 4,
  "nbformat_minor": 0,
  "metadata": {
    "colab": {
      "name": "Untitled1.ipynb",
      "provenance": [],
      "collapsed_sections": [],
      "toc_visible": true,
      "include_colab_link": true
    },
    "kernelspec": {
      "name": "python3",
      "display_name": "Python 3"
    },
    "accelerator": "TPU"
  },
  "cells": [
    {
      "cell_type": "markdown",
      "metadata": {
        "id": "view-in-github",
        "colab_type": "text"
      },
      "source": [
        "<a href=\"https://colab.research.google.com/github/YasukoSasai/AI/blob/main/Untitled1.ipynb\" target=\"_parent\"><img src=\"https://colab.research.google.com/assets/colab-badge.svg\" alt=\"Open In Colab\"/></a>"
      ]
    },
    {
      "cell_type": "code",
      "metadata": {
        "colab": {
          "base_uri": "https://localhost:8080/"
        },
        "id": "c1F1gHzQQxM6",
        "outputId": "70d66ae5-eb1e-4dc4-eba2-b9737f91607f"
      },
      "source": [
        "!git clone https://github.com/NaokiKameyama/ZeroCreateAI.git"
      ],
      "execution_count": null,
      "outputs": [
        {
          "output_type": "stream",
          "text": [
            "Cloning into 'ZeroCreateAI'...\n",
            "remote: Enumerating objects: 81, done.\u001b[K\n",
            "remote: Counting objects: 100% (81/81), done.\u001b[K\n",
            "remote: Compressing objects: 100% (62/62), done.\u001b[K\n",
            "remote: Total 81 (delta 18), reused 74 (delta 14), pack-reused 0\u001b[K\n",
            "Unpacking objects: 100% (81/81), done.\n"
          ],
          "name": "stdout"
        }
      ]
    },
    {
      "cell_type": "code",
      "metadata": {
        "colab": {
          "base_uri": "https://localhost:8080/"
        },
        "id": "W52pDY9jRRJ2",
        "outputId": "d5b1e57e-6685-412b-dbeb-32e5f154f0dd"
      },
      "source": [
        "%ls\n",
        "%cd ZeroCreateAI/ch05\n",
        "%ls"
      ],
      "execution_count": null,
      "outputs": [
        {
          "output_type": "stream",
          "text": [
            "\u001b[0m\u001b[01;34msample_data\u001b[0m/  \u001b[01;34mZeroCreateAI\u001b[0m/\n",
            "/content/ZeroCreateAI/ch05\n",
            "executeTestfunction.py  mnist.jpg        train_neuralnetwork.py\n",
            "gradient_check.py       testfunction.py  two_layers_net.py\n",
            "mnist_image_show.py     test.py\n"
          ],
          "name": "stdout"
        }
      ]
    },
    {
      "cell_type": "code",
      "metadata": {
        "colab": {
          "base_uri": "https://localhost:8080/"
        },
        "id": "4YRK62c2RbdZ",
        "outputId": "35f1ba05-2f14-49e8-f49a-4079b44fa028"
      },
      "source": [
        "%ls\n",
        "%cd ZeroCreateAI/ch05\n",
        "%ls\n",
        "!python3 \"test.py\""
      ],
      "execution_count": null,
      "outputs": [
        {
          "output_type": "stream",
          "text": [
            "executeTestfunction.py  testfunction.py         w1_1.jpeg  w1_6.jpeg\n",
            "gradient_check.py       test.py                 w1_2.jpeg  w1_7.jpeg\n",
            "mnist_image_show.py     train_neuralnetwork.py  w1_3.jpeg  w1_8.jpeg\n",
            "mnist.jpg               two_layers_net.py       w1_4.jpeg  w1_9.jpeg\n",
            "\u001b[0m\u001b[01;34m__pycache__\u001b[0m/            w1_0.jpeg               w1_5.jpeg\n",
            "[Errno 2] No such file or directory: 'ZeroCreateAI/ch05'\n",
            "/content/ZeroCreateAI/ch05\n",
            "executeTestfunction.py  testfunction.py         w1_1.jpeg  w1_6.jpeg\n",
            "gradient_check.py       test.py                 w1_2.jpeg  w1_7.jpeg\n",
            "mnist_image_show.py     train_neuralnetwork.py  w1_3.jpeg  w1_8.jpeg\n",
            "mnist.jpg               two_layers_net.py       w1_4.jpeg  w1_9.jpeg\n",
            "\u001b[0m\u001b[01;34m__pycache__\u001b[0m/            w1_0.jpeg               w1_5.jpeg\n",
            "学習開始\n",
            "テスト開始\n",
            "予測確率 [[1.17076122e-07 1.17076122e-07 2.16660613e-02 9.78204952e-01\n",
            "  1.17076122e-07 4.90390104e-05 1.17076122e-07 1.17076122e-07\n",
            "  7.92452940e-05 1.17076122e-07]\n",
            " [8.05205619e-05 9.76093705e-01 9.82973462e-05 3.07451330e-03\n",
            "  8.05205619e-05 6.90688124e-04 2.23060177e-04 8.05205619e-05\n",
            "  1.88692917e-02 7.08882872e-04]\n",
            " [1.50335405e-04 1.50335405e-04 3.15733092e-04 9.35790609e-01\n",
            "  1.50335405e-04 4.48767979e-02 1.50335405e-04 1.50335405e-04\n",
            "  1.73488265e-02 9.16356778e-04]\n",
            " [2.43495945e-04 2.43495945e-04 3.45730611e-04 3.53814897e-02\n",
            "  5.04923487e-04 8.44377589e-01 8.85274932e-02 2.43495945e-04\n",
            "  2.98000934e-02 3.32192363e-04]\n",
            " [5.49100812e-05 5.49100812e-05 3.96014727e-04 5.49100812e-05\n",
            "  8.36516315e-05 2.98006549e-03 9.28121925e-04 5.49100812e-05\n",
            "  9.95259799e-01 1.32706435e-04]\n",
            " [5.26415683e-05 1.97268486e-06 2.14908594e-02 9.78220771e-01\n",
            "  1.97268486e-06 1.68687489e-04 1.97268486e-06 8.50524275e-06\n",
            "  4.91807304e-05 3.43620258e-06]\n",
            " [9.85644876e-01 3.05554133e-05 1.36374400e-03 6.23009033e-05\n",
            "  3.05554133e-05 1.00049552e-02 1.28506711e-04 3.05554133e-05\n",
            "  2.67339535e-03 3.05554133e-05]\n",
            " [5.99042274e-05 5.99042274e-05 8.89798640e-05 1.68246273e-04\n",
            "  2.15900329e-04 5.79556111e-03 5.99042274e-05 5.99042274e-05\n",
            "  9.92519302e-01 9.72393560e-04]\n",
            " [2.39580711e-07 6.11182905e-08 9.82059606e-01 4.64512186e-07\n",
            "  6.11182905e-08 6.11182905e-08 1.79381386e-02 6.11182905e-08\n",
            "  1.24589431e-06 6.11182905e-08]\n",
            " [1.97720133e-04 1.97720133e-04 1.97720133e-04 2.66191887e-04\n",
            "  9.56256692e-01 9.02397956e-04 1.97720133e-04 2.04075532e-04\n",
            "  3.36649892e-03 3.82132632e-02]]\n",
            "予測結果 [3 1 3 5 8 3 0 8 2 4]\n",
            "正解データ [3 1 3 5 8 3 0 8 2 4]\n",
            "test acc: 1.0\n",
            "(784, 10)\n",
            "<Figure size 640x480 with 1 Axes>\n",
            "<Figure size 640x480 with 1 Axes>\n",
            "<Figure size 640x480 with 1 Axes>\n",
            "<Figure size 640x480 with 1 Axes>\n",
            "<Figure size 640x480 with 1 Axes>\n",
            "<Figure size 640x480 with 1 Axes>\n",
            "<Figure size 640x480 with 1 Axes>\n",
            "<Figure size 640x480 with 1 Axes>\n",
            "<Figure size 640x480 with 1 Axes>\n",
            "<Figure size 640x480 with 1 Axes>\n"
          ],
          "name": "stdout"
        }
      ]
    },
    {
      "cell_type": "code",
      "metadata": {
        "colab": {
          "base_uri": "https://localhost:8080/"
        },
        "id": "MeNkqk3orO79",
        "outputId": "2c98f08b-df58-4318-e8af-26e2b939efb3"
      },
      "source": [
        "from google.colab import drive\n",
        "drive.mount('/content/drive')"
      ],
      "execution_count": null,
      "outputs": [
        {
          "output_type": "stream",
          "text": [
            "Mounted at /content/drive\n"
          ],
          "name": "stdout"
        }
      ]
    }
  ]
}